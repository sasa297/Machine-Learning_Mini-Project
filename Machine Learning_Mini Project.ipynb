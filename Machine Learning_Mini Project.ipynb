{
 "cells": [
  {
   "cell_type": "markdown",
   "metadata": {},
   "source": [
    "**Mini Project**\n",
    "\n",
    "## Mercedes-Benz Greener Manufacturing\n",
    "***\n",
    "Objective : To predict the time taken to test the car\n",
    "\n",
    "In this competition, Daimler is challenging to tackle the curse of dimensionality and reduce\n",
    "the time that cars spend on the test bench.\n",
    "\n",
    "***Submitted By : Saikiran. Pasikanti***"
   ]
  },
  {
   "cell_type": "markdown",
   "metadata": {},
   "source": [
    "<space>"
   ]
  },
  {
   "cell_type": "markdown",
   "metadata": {},
   "source": [
    "## (1) Importing the Data"
   ]
  },
  {
   "cell_type": "code",
   "execution_count": 1,
   "metadata": {
    "collapsed": true
   },
   "outputs": [],
   "source": [
    "# Importing pandas for dataframes\n",
    "import pandas as pd \n",
    "import os"
   ]
  },
  {
   "cell_type": "code",
   "execution_count": 2,
   "metadata": {
    "collapsed": true
   },
   "outputs": [],
   "source": [
    "# Set directory\n",
    "os.chdir(\"C:/Users/Sai/Desktop/PYTHON_007/Assignments/MiniProject\")\n",
    "\n",
    "# Importing the CSV file\n",
    "train = pd.read_csv(\"train.csv\")"
   ]
  },
  {
   "cell_type": "code",
   "execution_count": null,
   "metadata": {
    "collapsed": true
   },
   "outputs": [],
   "source": []
  },
  {
   "cell_type": "code",
   "execution_count": 3,
   "metadata": {},
   "outputs": [
    {
     "data": {
      "text/html": [
       "<div>\n",
       "<style scoped>\n",
       "    .dataframe tbody tr th:only-of-type {\n",
       "        vertical-align: middle;\n",
       "    }\n",
       "\n",
       "    .dataframe tbody tr th {\n",
       "        vertical-align: top;\n",
       "    }\n",
       "\n",
       "    .dataframe thead th {\n",
       "        text-align: right;\n",
       "    }\n",
       "</style>\n",
       "<table border=\"1\" class=\"dataframe\">\n",
       "  <thead>\n",
       "    <tr style=\"text-align: right;\">\n",
       "      <th></th>\n",
       "      <th>ID</th>\n",
       "      <th>y</th>\n",
       "      <th>X0</th>\n",
       "      <th>X1</th>\n",
       "      <th>X2</th>\n",
       "      <th>X3</th>\n",
       "      <th>X4</th>\n",
       "      <th>X5</th>\n",
       "      <th>X6</th>\n",
       "      <th>X8</th>\n",
       "      <th>...</th>\n",
       "      <th>X375</th>\n",
       "      <th>X376</th>\n",
       "      <th>X377</th>\n",
       "      <th>X378</th>\n",
       "      <th>X379</th>\n",
       "      <th>X380</th>\n",
       "      <th>X382</th>\n",
       "      <th>X383</th>\n",
       "      <th>X384</th>\n",
       "      <th>X385</th>\n",
       "    </tr>\n",
       "  </thead>\n",
       "  <tbody>\n",
       "    <tr>\n",
       "      <th>0</th>\n",
       "      <td>0</td>\n",
       "      <td>130.81</td>\n",
       "      <td>k</td>\n",
       "      <td>v</td>\n",
       "      <td>at</td>\n",
       "      <td>a</td>\n",
       "      <td>d</td>\n",
       "      <td>u</td>\n",
       "      <td>j</td>\n",
       "      <td>o</td>\n",
       "      <td>...</td>\n",
       "      <td>0</td>\n",
       "      <td>0</td>\n",
       "      <td>1</td>\n",
       "      <td>0</td>\n",
       "      <td>0</td>\n",
       "      <td>0</td>\n",
       "      <td>0</td>\n",
       "      <td>0</td>\n",
       "      <td>0</td>\n",
       "      <td>0</td>\n",
       "    </tr>\n",
       "    <tr>\n",
       "      <th>1</th>\n",
       "      <td>6</td>\n",
       "      <td>88.53</td>\n",
       "      <td>k</td>\n",
       "      <td>t</td>\n",
       "      <td>av</td>\n",
       "      <td>e</td>\n",
       "      <td>d</td>\n",
       "      <td>y</td>\n",
       "      <td>l</td>\n",
       "      <td>o</td>\n",
       "      <td>...</td>\n",
       "      <td>1</td>\n",
       "      <td>0</td>\n",
       "      <td>0</td>\n",
       "      <td>0</td>\n",
       "      <td>0</td>\n",
       "      <td>0</td>\n",
       "      <td>0</td>\n",
       "      <td>0</td>\n",
       "      <td>0</td>\n",
       "      <td>0</td>\n",
       "    </tr>\n",
       "    <tr>\n",
       "      <th>2</th>\n",
       "      <td>7</td>\n",
       "      <td>76.26</td>\n",
       "      <td>az</td>\n",
       "      <td>w</td>\n",
       "      <td>n</td>\n",
       "      <td>c</td>\n",
       "      <td>d</td>\n",
       "      <td>x</td>\n",
       "      <td>j</td>\n",
       "      <td>x</td>\n",
       "      <td>...</td>\n",
       "      <td>0</td>\n",
       "      <td>0</td>\n",
       "      <td>0</td>\n",
       "      <td>0</td>\n",
       "      <td>0</td>\n",
       "      <td>0</td>\n",
       "      <td>1</td>\n",
       "      <td>0</td>\n",
       "      <td>0</td>\n",
       "      <td>0</td>\n",
       "    </tr>\n",
       "    <tr>\n",
       "      <th>3</th>\n",
       "      <td>9</td>\n",
       "      <td>80.62</td>\n",
       "      <td>az</td>\n",
       "      <td>t</td>\n",
       "      <td>n</td>\n",
       "      <td>f</td>\n",
       "      <td>d</td>\n",
       "      <td>x</td>\n",
       "      <td>l</td>\n",
       "      <td>e</td>\n",
       "      <td>...</td>\n",
       "      <td>0</td>\n",
       "      <td>0</td>\n",
       "      <td>0</td>\n",
       "      <td>0</td>\n",
       "      <td>0</td>\n",
       "      <td>0</td>\n",
       "      <td>0</td>\n",
       "      <td>0</td>\n",
       "      <td>0</td>\n",
       "      <td>0</td>\n",
       "    </tr>\n",
       "    <tr>\n",
       "      <th>4</th>\n",
       "      <td>13</td>\n",
       "      <td>78.02</td>\n",
       "      <td>az</td>\n",
       "      <td>v</td>\n",
       "      <td>n</td>\n",
       "      <td>f</td>\n",
       "      <td>d</td>\n",
       "      <td>h</td>\n",
       "      <td>d</td>\n",
       "      <td>n</td>\n",
       "      <td>...</td>\n",
       "      <td>0</td>\n",
       "      <td>0</td>\n",
       "      <td>0</td>\n",
       "      <td>0</td>\n",
       "      <td>0</td>\n",
       "      <td>0</td>\n",
       "      <td>0</td>\n",
       "      <td>0</td>\n",
       "      <td>0</td>\n",
       "      <td>0</td>\n",
       "    </tr>\n",
       "  </tbody>\n",
       "</table>\n",
       "<p>5 rows × 378 columns</p>\n",
       "</div>"
      ],
      "text/plain": [
       "   ID       y  X0 X1  X2 X3 X4 X5 X6 X8  ...   X375  X376  X377  X378  X379  \\\n",
       "0   0  130.81   k  v  at  a  d  u  j  o  ...      0     0     1     0     0   \n",
       "1   6   88.53   k  t  av  e  d  y  l  o  ...      1     0     0     0     0   \n",
       "2   7   76.26  az  w   n  c  d  x  j  x  ...      0     0     0     0     0   \n",
       "3   9   80.62  az  t   n  f  d  x  l  e  ...      0     0     0     0     0   \n",
       "4  13   78.02  az  v   n  f  d  h  d  n  ...      0     0     0     0     0   \n",
       "\n",
       "   X380  X382  X383  X384  X385  \n",
       "0     0     0     0     0     0  \n",
       "1     0     0     0     0     0  \n",
       "2     0     1     0     0     0  \n",
       "3     0     0     0     0     0  \n",
       "4     0     0     0     0     0  \n",
       "\n",
       "[5 rows x 378 columns]"
      ]
     },
     "execution_count": 3,
     "metadata": {},
     "output_type": "execute_result"
    }
   ],
   "source": [
    "# Check the records of the data set\n",
    "train.head()"
   ]
  },
  {
   "cell_type": "code",
   "execution_count": 4,
   "metadata": {},
   "outputs": [
    {
     "data": {
      "text/plain": [
       "(4209, 378)"
      ]
     },
     "execution_count": 4,
     "metadata": {},
     "output_type": "execute_result"
    }
   ],
   "source": [
    "train.shape"
   ]
  },
  {
   "cell_type": "code",
   "execution_count": 5,
   "metadata": {},
   "outputs": [
    {
     "name": "stdout",
     "output_type": "stream",
     "text": [
      "Index(['ID', 'y', 'X10', 'X11', 'X12', 'X13', 'X14', 'X15', 'X16', 'X17',\n",
      "       ...\n",
      "       'X375', 'X376', 'X377', 'X378', 'X379', 'X380', 'X382', 'X383', 'X384',\n",
      "       'X385'],\n",
      "      dtype='object', length=370)\n"
     ]
    }
   ],
   "source": [
    "#This will extract only numeric/binary columns from the data set\n",
    "\n",
    "num_cols = train._get_numeric_data().columns\n",
    "print(num_cols)"
   ]
  },
  {
   "cell_type": "code",
   "execution_count": 6,
   "metadata": {},
   "outputs": [
    {
     "name": "stdout",
     "output_type": "stream",
     "text": [
      "['X4', 'X8', 'X5', 'X3', 'X1', 'X6', 'X0', 'X2']\n"
     ]
    }
   ],
   "source": [
    "# Following are the categorical columns present in the data set\n",
    "\n",
    "cat_cols = list( set(train) -  set(num_cols) )\n",
    "print(cat_cols)"
   ]
  },
  {
   "cell_type": "markdown",
   "metadata": {},
   "source": [
    "Size of Dataset = rows x columns = 4209 x 378\n",
    "\n",
    "This Data set contains\n",
    "    - 1 ID Column\n",
    "    - 1 Dependent Column\n",
    "    - 376 Independent Columns\n",
    "        - 8 Categorical Columns (X0, X1, X2, X3, X4, X5, X6, X8)\n",
    "        - 368 Binary Columns"
   ]
  },
  {
   "cell_type": "code",
   "execution_count": 7,
   "metadata": {
    "collapsed": true
   },
   "outputs": [],
   "source": [
    "#train.describe"
   ]
  },
  {
   "cell_type": "code",
   "execution_count": null,
   "metadata": {
    "collapsed": true
   },
   "outputs": [],
   "source": []
  },
  {
   "cell_type": "markdown",
   "metadata": {
    "collapsed": true
   },
   "source": [
    "### Understanding the data"
   ]
  },
  {
   "cell_type": "markdown",
   "metadata": {},
   "source": [
    "Regression problem = because there is a need to predict continous variable\n",
    "\n",
    "<br>An accurate model will be able to reduce the total time spent testing vehicles by allowing cars with similar testing configurations to be run successively. "
   ]
  },
  {
   "cell_type": "markdown",
   "metadata": {
    "collapsed": true
   },
   "source": [
    "- The training 4209 vehicle tests obtained by Mercedes for a range of vehicle configurations and a target variable.\n",
    "\n",
    "- Each vehicle test is defined by the vehicle configuration, which is encoded in a set of features.\n",
    "\n",
    "- The training dataset contain 376 different vehicle features with names such as ‘X0’, ‘X1’, ‘X2’ and so on.\n",
    "\n",
    "- All of the features have been anonymized meaning that they do not come with a physical representation. \n",
    "\n",
    "The description of the data does indicate that the vehicle features are configuration options such as suspension setting, adaptive cruise control, all-wheel drive, and a number of different options that together define a car model. \n",
    "\n"
   ]
  },
  {
   "cell_type": "markdown",
   "metadata": {},
   "source": [
    "### (2) Exploratory Data Analysis"
   ]
  },
  {
   "cell_type": "code",
   "execution_count": 8,
   "metadata": {
    "collapsed": true
   },
   "outputs": [],
   "source": [
    "# Checking for the missing values in the data set\n",
    "\n",
    "#train.isnull().sum() # No missing values found"
   ]
  },
  {
   "cell_type": "markdown",
   "metadata": {},
   "source": [
    "`The given data set has no missing values`"
   ]
  },
  {
   "cell_type": "code",
   "execution_count": 9,
   "metadata": {
    "collapsed": true
   },
   "outputs": [],
   "source": [
    "# Importing the required visualization libraries\n",
    "\n",
    "import matplotlib.pyplot as plt\n",
    "import seaborn as sns\n",
    "import numpy as np\n",
    "%matplotlib inline"
   ]
  },
  {
   "cell_type": "markdown",
   "metadata": {},
   "source": [
    "### Target Variable 'y'"
   ]
  },
  {
   "cell_type": "code",
   "execution_count": 10,
   "metadata": {},
   "outputs": [
    {
     "data": {
      "image/png": "[encoded data removed]",
      "text/plain": [
       "<matplotlib.figure.Figure at 0xac08198>"
      ]
     },
     "metadata": {},
     "output_type": "display_data"
    }
   ],
   "source": [
    "# Plotting target variable y against its count sorted\n",
    "plt.figure(figsize=(10,6))\n",
    "plt.scatter(range(train.shape[0]), np.sort(train.y.values))\n",
    "\n",
    "plt.xlabel('index'); plt.ylabel('testing time y (seconds)'); plt.title(\"Vehicle Testing times for training data\")\n",
    "plt.grid(alpha=0.3)\n",
    "plt.show()"
   ]
  },
  {
   "cell_type": "markdown",
   "metadata": {},
   "source": [
    "- The above plot shows all of the testing times arranged from shortest to longest from left to right.<br>\n",
    "- The four outliers can be seen at right with the highest value shown in red.<br> \n",
    "- Plotting the data demonstrates the extreme nature of this data point more effectively than examining the numbers.<br>"
   ]
  },
  {
   "cell_type": "code",
   "execution_count": 11,
   "metadata": {},
   "outputs": [
    {
     "data": {
      "image/png": "[encoded data removed]",
      "text/plain": [
       "<matplotlib.figure.Figure at 0xad363c8>"
      ]
     },
     "metadata": {},
     "output_type": "display_data"
    }
   ],
   "source": [
    "# The testing times can also be visualized as a histogram. \n",
    "# For this visualization, the outlying data point has been removed in order to better represent the majority of the data.\n",
    "train2 = train\n",
    "train2.drop( train2['y'].idxmax(), axis=0, inplace=True)\n",
    "\n",
    "# Plotting the distribution of 'y'\n",
    "plt.figure(figsize=(10,6))\n",
    "train2['y'].plot.kde()\n",
    "plt.xlabel('y in seconds')\n",
    "plt.title('Distribution of Y variable')\n",
    "plt.grid(alpha=0.3)\n",
    "plt.show()"
   ]
  },
  {
   "cell_type": "markdown",
   "metadata": {},
   "source": [
    "- The majority of test durations are between 90 and 100 seconds\n",
    "- There are peaks in testing times around 97–98 seconds and near 108 seconds.\n",
    "- The testing times are bi-modal, with two distinct peaks.\n",
    "- This data is positively skewed, with a long tail stretching into the upper values."
   ]
  },
  {
   "cell_type": "code",
   "execution_count": 12,
   "metadata": {},
   "outputs": [
    {
     "name": "stdout",
     "output_type": "stream",
     "text": [
      "Y :    Min= 72.11    Mean= 100.63019011406833    Max= 169.91\n"
     ]
    }
   ],
   "source": [
    "print (\"Y :    Min=\",train2.y.min(),   \"   Mean=\",train2.y.mean(),  \"   Max=\",train2.y.max())"
   ]
  },
  {
   "cell_type": "markdown",
   "metadata": {},
   "source": [
    "### Categorical Variables"
   ]
  },
  {
   "cell_type": "code",
   "execution_count": 13,
   "metadata": {},
   "outputs": [
    {
     "data": {
      "image/png": "[encoded data removed]",
      "text/plain": [
       "<matplotlib.figure.Figure at 0xbcdd630>"
      ]
     },
     "metadata": {},
     "output_type": "display_data"
    }
   ],
   "source": [
    "f, axes = plt.subplots(4, 2, figsize=(20, 20))\n",
    "sns.boxplot(data=train, x='X0', y='y',ax=axes[0,0]).set_title(\"Testing time v/s Categories for X0\", fontsize=12)\n",
    "sns.boxplot(data=train, x='X1', y='y',ax=axes[0,1]).set_title(\"Testing time v/s Categories for X1\", fontsize=12)\n",
    "sns.boxplot(data=train, x='X2', y='y',ax=axes[1,0]).set_title(\"Testing time v/s Categories for X2\", fontsize=12)\n",
    "sns.boxplot(data=train, x='X3', y='y',ax=axes[1,1]).set_title(\"Testing time v/s Categories for X3\", fontsize=12)\n",
    "sns.boxplot(data=train, x='X4', y='y',ax=axes[2,0]).set_title(\"Testing time v/s Categories for X4\", fontsize=12)\n",
    "sns.boxplot(data=train, x='X5', y='y',ax=axes[2,1]).set_title(\"Testing time v/s Categories for X5\", fontsize=12)\n",
    "sns.boxplot(data=train, x='X6', y='y',ax=axes[3,0]).set_title(\"Testing time v/s Categories for X6\", fontsize=12)\n",
    "sns.boxplot(data=train, x='X8', y='y',ax=axes[3,1]).set_title(\"Testing time v/s Categories for X8\", fontsize=12)\n",
    "plt.grid(alpha=0.3)\n",
    "plt.show()"
   ]
  },
  {
   "cell_type": "markdown",
   "metadata": {},
   "source": [
    "- There are no discernible trends within the categorical variables with respect to vehicle testing duration. \n",
    "- Moreover, it is diffcult to draw intuitive conclusions from this because the features have no physical representation"
   ]
  },
  {
   "cell_type": "markdown",
   "metadata": {
    "collapsed": true
   },
   "source": [
    "### Binary Variables"
   ]
  },
  {
   "cell_type": "code",
   "execution_count": 14,
   "metadata": {},
   "outputs": [
    {
     "name": "stderr",
     "output_type": "stream",
     "text": [
      "C:\\Users\\Sai\\Anaconda3\\lib\\site-packages\\ipykernel_launcher.py:2: SettingWithCopyWarning: \n",
      "A value is trying to be set on a copy of a slice from a DataFrame\n",
      "\n",
      "See the caveats in the documentation: http://pandas.pydata.org/pandas-docs/stable/indexing.html#indexing-view-versus-copy\n",
      "  \n"
     ]
    },
    {
     "data": {
      "text/html": [
       "<div>\n",
       "<style scoped>\n",
       "    .dataframe tbody tr th:only-of-type {\n",
       "        vertical-align: middle;\n",
       "    }\n",
       "\n",
       "    .dataframe tbody tr th {\n",
       "        vertical-align: top;\n",
       "    }\n",
       "\n",
       "    .dataframe thead th {\n",
       "        text-align: right;\n",
       "    }\n",
       "</style>\n",
       "<table border=\"1\" class=\"dataframe\">\n",
       "  <thead>\n",
       "    <tr style=\"text-align: right;\">\n",
       "      <th></th>\n",
       "      <th>X10</th>\n",
       "      <th>X11</th>\n",
       "      <th>X12</th>\n",
       "      <th>X13</th>\n",
       "      <th>X14</th>\n",
       "      <th>X15</th>\n",
       "      <th>X16</th>\n",
       "      <th>X17</th>\n",
       "      <th>X18</th>\n",
       "      <th>X19</th>\n",
       "      <th>...</th>\n",
       "      <th>X375</th>\n",
       "      <th>X376</th>\n",
       "      <th>X377</th>\n",
       "      <th>X378</th>\n",
       "      <th>X379</th>\n",
       "      <th>X380</th>\n",
       "      <th>X382</th>\n",
       "      <th>X383</th>\n",
       "      <th>X384</th>\n",
       "      <th>X385</th>\n",
       "    </tr>\n",
       "  </thead>\n",
       "  <tbody>\n",
       "    <tr>\n",
       "      <th>0</th>\n",
       "      <td>0</td>\n",
       "      <td>0</td>\n",
       "      <td>0</td>\n",
       "      <td>1</td>\n",
       "      <td>0</td>\n",
       "      <td>0</td>\n",
       "      <td>0</td>\n",
       "      <td>0</td>\n",
       "      <td>1</td>\n",
       "      <td>0</td>\n",
       "      <td>...</td>\n",
       "      <td>0</td>\n",
       "      <td>0</td>\n",
       "      <td>1</td>\n",
       "      <td>0</td>\n",
       "      <td>0</td>\n",
       "      <td>0</td>\n",
       "      <td>0</td>\n",
       "      <td>0</td>\n",
       "      <td>0</td>\n",
       "      <td>0</td>\n",
       "    </tr>\n",
       "    <tr>\n",
       "      <th>1</th>\n",
       "      <td>0</td>\n",
       "      <td>0</td>\n",
       "      <td>0</td>\n",
       "      <td>0</td>\n",
       "      <td>0</td>\n",
       "      <td>0</td>\n",
       "      <td>0</td>\n",
       "      <td>0</td>\n",
       "      <td>1</td>\n",
       "      <td>0</td>\n",
       "      <td>...</td>\n",
       "      <td>1</td>\n",
       "      <td>0</td>\n",
       "      <td>0</td>\n",
       "      <td>0</td>\n",
       "      <td>0</td>\n",
       "      <td>0</td>\n",
       "      <td>0</td>\n",
       "      <td>0</td>\n",
       "      <td>0</td>\n",
       "      <td>0</td>\n",
       "    </tr>\n",
       "    <tr>\n",
       "      <th>2</th>\n",
       "      <td>0</td>\n",
       "      <td>0</td>\n",
       "      <td>0</td>\n",
       "      <td>0</td>\n",
       "      <td>0</td>\n",
       "      <td>0</td>\n",
       "      <td>0</td>\n",
       "      <td>1</td>\n",
       "      <td>0</td>\n",
       "      <td>0</td>\n",
       "      <td>...</td>\n",
       "      <td>0</td>\n",
       "      <td>0</td>\n",
       "      <td>0</td>\n",
       "      <td>0</td>\n",
       "      <td>0</td>\n",
       "      <td>0</td>\n",
       "      <td>1</td>\n",
       "      <td>0</td>\n",
       "      <td>0</td>\n",
       "      <td>0</td>\n",
       "    </tr>\n",
       "    <tr>\n",
       "      <th>3</th>\n",
       "      <td>0</td>\n",
       "      <td>0</td>\n",
       "      <td>0</td>\n",
       "      <td>0</td>\n",
       "      <td>0</td>\n",
       "      <td>0</td>\n",
       "      <td>0</td>\n",
       "      <td>0</td>\n",
       "      <td>0</td>\n",
       "      <td>0</td>\n",
       "      <td>...</td>\n",
       "      <td>0</td>\n",
       "      <td>0</td>\n",
       "      <td>0</td>\n",
       "      <td>0</td>\n",
       "      <td>0</td>\n",
       "      <td>0</td>\n",
       "      <td>0</td>\n",
       "      <td>0</td>\n",
       "      <td>0</td>\n",
       "      <td>0</td>\n",
       "    </tr>\n",
       "    <tr>\n",
       "      <th>4</th>\n",
       "      <td>0</td>\n",
       "      <td>0</td>\n",
       "      <td>0</td>\n",
       "      <td>0</td>\n",
       "      <td>0</td>\n",
       "      <td>0</td>\n",
       "      <td>0</td>\n",
       "      <td>0</td>\n",
       "      <td>0</td>\n",
       "      <td>0</td>\n",
       "      <td>...</td>\n",
       "      <td>0</td>\n",
       "      <td>0</td>\n",
       "      <td>0</td>\n",
       "      <td>0</td>\n",
       "      <td>0</td>\n",
       "      <td>0</td>\n",
       "      <td>0</td>\n",
       "      <td>0</td>\n",
       "      <td>0</td>\n",
       "      <td>0</td>\n",
       "    </tr>\n",
       "  </tbody>\n",
       "</table>\n",
       "<p>5 rows × 368 columns</p>\n",
       "</div>"
      ],
      "text/plain": [
       "   X10  X11  X12  X13  X14  X15  X16  X17  X18  X19  ...   X375  X376  X377  \\\n",
       "0    0    0    0    1    0    0    0    0    1    0  ...      0     0     1   \n",
       "1    0    0    0    0    0    0    0    0    1    0  ...      1     0     0   \n",
       "2    0    0    0    0    0    0    0    1    0    0  ...      0     0     0   \n",
       "3    0    0    0    0    0    0    0    0    0    0  ...      0     0     0   \n",
       "4    0    0    0    0    0    0    0    0    0    0  ...      0     0     0   \n",
       "\n",
       "   X378  X379  X380  X382  X383  X384  X385  \n",
       "0     0     0     0     0     0     0     0  \n",
       "1     0     0     0     0     0     0     0  \n",
       "2     0     0     0     1     0     0     0  \n",
       "3     0     0     0     0     0     0     0  \n",
       "4     0     0     0     0     0     0     0  \n",
       "\n",
       "[5 rows x 368 columns]"
      ]
     },
     "execution_count": 14,
     "metadata": {},
     "output_type": "execute_result"
    }
   ],
   "source": [
    "train3 = train[num_cols]\n",
    "train3.drop(['ID','y'], axis=1, inplace=True)\n",
    "train3.head()"
   ]
  },
  {
   "cell_type": "code",
   "execution_count": 15,
   "metadata": {},
   "outputs": [
    {
     "data": {
      "text/plain": [
       "Series([], dtype: int64)"
      ]
     },
     "metadata": {},
     "output_type": "display_data"
    },
    {
     "name": "stdout",
     "output_type": "stream",
     "text": [
      "X235    0\n",
      "X293    0\n",
      "X290    0\n",
      "X233    0\n",
      "X289    0\n",
      "X330    0\n",
      "X347    0\n",
      "X93     0\n",
      "X268    0\n",
      "X107    0\n",
      "X11     0\n",
      "X297    0\n",
      "X259    1\n",
      "X260    1\n",
      "X295    1\n",
      "X270    1\n",
      "X280    1\n",
      "X288    1\n",
      "X42     1\n",
      "X190    1\n",
      "X204    1\n",
      "X207    1\n",
      "X210    1\n",
      "X257    1\n",
      "X39     1\n",
      "X33     1\n",
      "X296    1\n",
      "X339    1\n",
      "X95     1\n",
      "X15     2\n",
      "dtype: int64\n"
     ]
    }
   ],
   "source": [
    "r = train3.sum()\n",
    "result = r.sort_values()\n",
    "display(result[368:])\n",
    "print(result[:30])"
   ]
  },
  {
   "cell_type": "code",
   "execution_count": 16,
   "metadata": {},
   "outputs": [
    {
     "data": {
      "image/png": "[encoded data removed]",
      "text/plain": [
       "<matplotlib.figure.Figure at 0xadab358>"
      ]
     },
     "metadata": {},
     "output_type": "display_data"
    }
   ],
   "source": [
    "plt.figure(figsize=(28,6))\n",
    "result[:29].plot.bar(color=\"C\")\n",
    "plt.xlabel('Binary Variables', fontsize =22)\n",
    "plt.ylabel('Count', fontsize =22)\n",
    "plt.title('Sum of Binary levels \"1\"', fontsize =22)\n",
    "plt.grid(alpha=0.3)\n",
    "plt.show()"
   ]
  },
  {
   "cell_type": "markdown",
   "metadata": {},
   "source": [
    "- Above plot shows that columns X235 to X297 have counts \"0\"=0 and \"1\"=4207\n",
    "- Columns X259 to X190 have counts \"0\"=1 and \"1\"=4206"
   ]
  },
  {
   "cell_type": "code",
   "execution_count": 17,
   "metadata": {},
   "outputs": [
    {
     "data": {
      "image/png": "[encoded data removed]",
      "text/plain": [
       "<matplotlib.figure.Figure at 0xe99c128>"
      ]
     },
     "metadata": {},
     "output_type": "display_data"
    }
   ],
   "source": [
    "plt.figure(figsize=(28,6))\n",
    "result[350:].plot.bar(color=\"C\")\n",
    "plt.xlabel('Binary Variables', fontsize =22)\n",
    "plt.ylabel('Count', fontsize =22)\n",
    "plt.title('Sum of Binary levels \"1\"', fontsize =22)\n",
    "plt.grid(alpha=0.3)\n",
    "plt.show()"
   ]
  },
  {
   "cell_type": "markdown",
   "metadata": {},
   "source": [
    "- All above variables have more than 3500 number of '1' binary counts"
   ]
  },
  {
   "cell_type": "markdown",
   "metadata": {},
   "source": [
    "- Looking further into the numerical data for the testing set, 12 binary variables where the values were either all 1 or 0. \n",
    "- As there is no variation in these features, they have no predictive power and therefore, these 12 features may be removed"
   ]
  },
  {
   "cell_type": "markdown",
   "metadata": {},
   "source": [
    "<space>"
   ]
  },
  {
   "cell_type": "markdown",
   "metadata": {},
   "source": [
    "## Inferences:\n",
    "1. One outlier, as determined by vehicle testing duration, needs to be removed\n",
    "2. 12 binary variables encode no information and should be removed\n",
    "3. There are no noticeable trends within the categorical or binary variables\n",
    "4. Unsupervised dimensionality reduction (PCA) will need to beperformed on the data"
   ]
  },
  {
   "cell_type": "code",
   "execution_count": null,
   "metadata": {
    "collapsed": true
   },
   "outputs": [],
   "source": []
  },
  {
   "cell_type": "markdown",
   "metadata": {},
   "source": [
    "## (3) Data Processing"
   ]
  },
  {
   "cell_type": "markdown",
   "metadata": {},
   "source": [
    "One-hot encoding the categorical variables, removing the outliers, and removing features that do not encode any information."
   ]
  },
  {
   "cell_type": "markdown",
   "metadata": {},
   "source": [
    "There is no trends within the variables.\n",
    "So, it is not possible to create brand new features by combining existing features \n",
    "\n",
    "Number of features may be reduced."
   ]
  },
  {
   "cell_type": "markdown",
   "metadata": {},
   "source": [
    "For reducing the number of features, Principal Components Analysis (PCA) is used which is an unsupervised technique that does not require an\n",
    "understanding of the physical representation of the features."
   ]
  },
  {
   "cell_type": "markdown",
   "metadata": {},
   "source": [
    "### Using PCA for Dimensionality Reduction"
   ]
  },
  {
   "cell_type": "markdown",
   "metadata": {},
   "source": [
    "PCA creates a set of basis vectors that represent the dimensions along which the original data has the greatest variation.<br>\n",
    "In other words, the original data is projected onto a new axis with the greatest variance in order to reduce the dimensions\n",
    "while preserving the maximum amount of information"
   ]
  },
  {
   "cell_type": "code",
   "execution_count": 18,
   "metadata": {
    "collapsed": true
   },
   "outputs": [],
   "source": [
    "# Import for PCA and numpy\n",
    "from sklearn.decomposition import PCA\n",
    "import numpy as np"
   ]
  },
  {
   "cell_type": "code",
   "execution_count": 19,
   "metadata": {},
   "outputs": [
    {
     "name": "stderr",
     "output_type": "stream",
     "text": [
      "C:\\Users\\Sai\\Anaconda3\\lib\\site-packages\\numpy\\core\\fromnumeric.py:52: FutureWarning: 'argmax' is deprecated. Use 'idxmax' instead. The behavior of 'argmax' will be corrected to return the positional maximum in the future. Use 'series.values.argmax' to get the position of the maximum now.\n",
      "  return getattr(obj, method)(*args, **kwds)\n"
     ]
    }
   ],
   "source": [
    "# Cleaning the data for dimensional reduction\n",
    "train3 = pd.get_dummies(train)\n",
    "\n",
    "train3.drop(np.argmax(train3['y']), axis=0, inplace=True)\n",
    "\n",
    "y = np.array(train3['y'])\n",
    "\n",
    "train3.drop(['ID'], axis=1, inplace=True)\n",
    "X_train2 = np.array(train3)"
   ]
  },
  {
   "cell_type": "code",
   "execution_count": 20,
   "metadata": {
    "collapsed": true
   },
   "outputs": [],
   "source": [
    "from sklearn.preprocessing import StandardScaler\n",
    "\n",
    "# Scale the data for analysis\n",
    "sc = StandardScaler()\n",
    "X_train_std = sc.fit_transform(X_train2)"
   ]
  },
  {
   "cell_type": "code",
   "execution_count": 21,
   "metadata": {},
   "outputs": [
    {
     "data": {
      "text/plain": [
       "array([[ 1.32829320e+01, -2.66296948e+00, -1.45900521e+00, ...,\n",
       "         3.10700669e-18, -2.07755504e-17,  1.62289196e-17],\n",
       "       [ 1.21536376e-01,  5.70580923e-01,  6.12367682e-01, ...,\n",
       "         3.10700669e-18, -2.07755504e-17,  1.62289196e-17],\n",
       "       [ 9.68655803e+00,  2.35168782e+01, -5.13815290e+00, ...,\n",
       "         1.35637908e-16, -4.99681746e-16,  2.32998624e-16],\n",
       "       ...,\n",
       "       [ 1.47371872e-01,  5.35606510e-01,  3.75493420e+00, ...,\n",
       "        -7.55481385e-17,  5.68909728e-18,  7.87314644e-17],\n",
       "       [-1.64335340e+00,  8.42275811e-01, -8.08868013e-01, ...,\n",
       "         1.52872986e-16,  1.70324596e-17, -1.18045495e-16],\n",
       "       [-1.92191236e+00, -1.20900402e+00, -8.22449633e-01, ...,\n",
       "         5.71004195e-17, -6.22701890e-17,  2.02948907e-16]])"
      ]
     },
     "execution_count": 21,
     "metadata": {},
     "output_type": "execute_result"
    }
   ],
   "source": [
    "import numpy as np\n",
    "from sklearn.decomposition import PCA\n",
    "\n",
    "np.random.seed(0)\n",
    "my_matrix = np.random.randn(20, 5)\n",
    "\n",
    "# PCA model from scikit\n",
    "my_model = PCA(n_components=540)\n",
    "my_model.fit_transform(X_train_std)\n",
    "\n",
    "#print (my_model.explained_variance_)\n",
    "#print (my_model.explained_variance_ratio_)\n",
    "#print (my_model.explained_variance_ratio_.cumsum())"
   ]
  },
  {
   "cell_type": "code",
   "execution_count": 22,
   "metadata": {},
   "outputs": [
    {
     "data": {
      "image/png": "[encoded data removed]",
      "text/plain": [
       "<matplotlib.figure.Figure at 0xf894978>"
      ]
     },
     "metadata": {},
     "output_type": "display_data"
    }
   ],
   "source": [
    "plt.figure(figsize=(20,6))\n",
    "\n",
    "plt.bar(range(len(my_model.explained_variance_ratio_)), my_model.explained_variance_ratio_)\n",
    "\n",
    "plt.xlabel('Principal Components', fontsize =12)\n",
    "plt.ylabel('variance', fontsize =12)\n",
    "plt.title('Variance Explained by Each Component', fontsize =15)\n",
    "\n",
    "plt.grid(alpha=0.3)\n",
    "plt.show()"
   ]
  },
  {
   "cell_type": "markdown",
   "metadata": {},
   "source": [
    "The first principal component explains the greatest variance in the data, while the second explains the second most and is orthogonal to the first and so on.<br>\n",
    "\n",
    "A common technique is to keep the number of principal components that explain a given percentage of the variance within a\n",
    "dataset. "
   ]
  },
  {
   "cell_type": "code",
   "execution_count": 23,
   "metadata": {
    "collapsed": true
   },
   "outputs": [],
   "source": [
    "# Calculate variance ratios\n",
    "variance = my_model.explained_variance_ratio_\n",
    "\n",
    "# Cumulative sum of variance explained with [n] features\n",
    "var=np.cumsum(np.round(my_model.explained_variance_ratio_, decimals=3)*100)\n",
    "#var"
   ]
  },
  {
   "cell_type": "code",
   "execution_count": 24,
   "metadata": {},
   "outputs": [
    {
     "data": {
      "image/png": "[encoded data removed]",
      "text/plain": [
       "<matplotlib.figure.Figure at 0x11a26828>"
      ]
     },
     "metadata": {},
     "output_type": "display_data"
    }
   ],
   "source": [
    "plt.figure(figsize=(15,6))\n",
    "\n",
    "# Plotting cumulative variance explained for PC\n",
    "plt.plot(np.cumsum(my_model.explained_variance_ratio_))\n",
    "\n",
    "plt.title('PCA Total Variance Explained v/s PC' , fontsize =15)\n",
    "plt.xlabel('number of components')\n",
    "plt.ylabel('cumulative explained variance')\n",
    "\n",
    "# draw markers\n",
    "plt.axhline(0.93, color='r', alpha=0.5)\n",
    "plt.axvline(225, color='r', alpha=0.5)\n",
    "\n",
    "# Show plot with grid\n",
    "plt.grid(alpha=0.3)\n",
    "plt.show()"
   ]
  },
  {
   "cell_type": "markdown",
   "metadata": {},
   "source": [
    "### Selecting Principal Components that explained 93% of the variation in the data."
   ]
  },
  {
   "cell_type": "markdown",
   "metadata": {},
   "source": [
    "The 225 principal components selected explain 93% of the variance in the data.\n",
    "\n",
    "The PCA algorithm was trained on the training features and then the training features are transformed by projecting the original\n",
    "features along the first 220 principal components.\n",
    "\n",
    "Applying PCA considerably reduces the number of dimensions within the data and should lead to improved performance by reducing the noise in the data."
   ]
  },
  {
   "cell_type": "markdown",
   "metadata": {},
   "source": [
    "<space>"
   ]
  },
  {
   "cell_type": "markdown",
   "metadata": {},
   "source": [
    "**This function takes in training, testing dataframes, and number of pca component.<br>\n",
    "Function returns training numpy array, training targets and testing numpy array**"
   ]
  },
  {
   "cell_type": "code",
   "execution_count": 25,
   "metadata": {
    "collapsed": true
   },
   "outputs": [],
   "source": [
    "def process_data(train, n_component=225):\n",
    "    # One-hot encode categorical variables\n",
    "    train = pd.get_dummies(train)\n",
    "    \n",
    "    # Drop outlier from training data\n",
    "    train.drop(np.argmax(train['y']), axis=0, inplace=True)\n",
    "    \n",
    "    # Assign target values to y\n",
    "    y = np.array(train['y'])\n",
    "    \n",
    "    # Drop ID column and target vales from training and ID from testing\n",
    "    train.drop(['ID'], axis=1, inplace=True)\n",
    "    \n",
    "    # Convert data to numpy arrays\n",
    "    X_train = np.array(train)\n",
    "    \n",
    "    # Perfrom PCA with specified number of components\n",
    "    pca = PCA(n_components=n_component)\n",
    "    \n",
    "    # Train pca on training data and then transform training data\n",
    "    X_train = pca.fit_transform(X_train)\n",
    "\n",
    "    # Return the processed data for use in the model\n",
    "    return X_train,y"
   ]
  },
  {
   "cell_type": "markdown",
   "metadata": {},
   "source": [
    "<space>"
   ]
  },
  {
   "cell_type": "code",
   "execution_count": 26,
   "metadata": {},
   "outputs": [
    {
     "name": "stderr",
     "output_type": "stream",
     "text": [
      "C:\\Users\\Sai\\Anaconda3\\lib\\site-packages\\numpy\\core\\fromnumeric.py:52: FutureWarning: 'argmax' is deprecated. Use 'idxmax' instead. The behavior of 'argmax' will be corrected to return the positional maximum in the future. Use 'series.values.argmax' to get the position of the maximum now.\n",
      "  return getattr(obj, method)(*args, **kwds)\n"
     ]
    }
   ],
   "source": [
    "# Create training data, training labels\n",
    "X_train2, y = process_data(train, n_component=140)"
   ]
  },
  {
   "cell_type": "markdown",
   "metadata": {},
   "source": [
    "<space>"
   ]
  },
  {
   "cell_type": "markdown",
   "metadata": {},
   "source": [
    "## (4) Building Model"
   ]
  },
  {
   "cell_type": "code",
   "execution_count": 27,
   "metadata": {
    "collapsed": true
   },
   "outputs": [],
   "source": [
    "# Splitting the data into train and test\n",
    "from sklearn.model_selection import train_test_split\n",
    "\n",
    "X_train, X_test, y_train, y_test = train_test_split ( X_train2, y, test_size=0.3, random_state=42 )"
   ]
  },
  {
   "cell_type": "code",
   "execution_count": null,
   "metadata": {
    "collapsed": true
   },
   "outputs": [],
   "source": []
  },
  {
   "cell_type": "markdown",
   "metadata": {},
   "source": [
    "As this was a regression task with fewer than 100,000 samples (training data points), there were several starting options.<br>\n",
    "\n",
    "By refering to the Sci-kit learn algorithm cheat sheet, some model have built as per the cheat sheet"
   ]
  },
  {
   "cell_type": "markdown",
   "metadata": {},
   "source": [
    "### ElasticNetCV"
   ]
  },
  {
   "cell_type": "code",
   "execution_count": 28,
   "metadata": {
    "collapsed": true
   },
   "outputs": [],
   "source": [
    "from sklearn.linear_model import ElasticNetCV\n",
    "\n",
    "# ElasticNetCV parameters\n",
    "ElasticNetCV(alphas=None, copy_X=True, cv=5, eps=0.001, fit_intercept=True,\n",
    "       l1_ratio=0.5, max_iter=1000, n_alphas=100, n_jobs=1,\n",
    "       normalize=False, positive=False, precompute='auto', random_state=0,\n",
    "       selection='cyclic', tol=0.0001, verbose=0)\n",
    "\n",
    "# ElasticNetCV model\n",
    "regr = ElasticNetCV(cv=5, random_state=0)\n",
    "\n",
    "# Training the model\n",
    "reg2 = regr.fit(X_train, y_train)"
   ]
  },
  {
   "cell_type": "code",
   "execution_count": 29,
   "metadata": {},
   "outputs": [
    {
     "name": "stdout",
     "output_type": "stream",
     "text": [
      "MSE for eNetCV = 0.00610578518102314\n",
      "R2  for eNetCV = 0.9999600422151603\n"
     ]
    }
   ],
   "source": [
    "from sklearn.metrics import mean_squared_error, r2_score\n",
    "\n",
    "# Predicting on test data\n",
    "y_pred_enet = reg2.predict(X_test)\n",
    "\n",
    "# MSE on test data\n",
    "mse_enet = mean_squared_error(y_test, y_pred_enet)\n",
    "print(\"MSE for eNetCV =\",mse_enet)\n",
    "\n",
    "# R Square measure on test data\n",
    "r2_enet = r2_score(y_test, y_pred_enet)\n",
    "print(\"R2  for eNetCV =\", r2_enet)"
   ]
  },
  {
   "cell_type": "markdown",
   "metadata": {},
   "source": [
    "### ExtraTreesRegressor"
   ]
  },
  {
   "cell_type": "code",
   "execution_count": 30,
   "metadata": {},
   "outputs": [
    {
     "name": "stdout",
     "output_type": "stream",
     "text": [
      "Extra trees regression...\n",
      "Best Params:\n",
      "ExtraTreesRegressor(bootstrap=False, criterion='mse', max_depth=None,\n",
      "          max_features='auto', max_leaf_nodes=None,\n",
      "          min_impurity_decrease=0.0, min_impurity_split=None,\n",
      "          min_samples_leaf=1, min_samples_split=2,\n",
      "          min_weight_fraction_leaf=0.0, n_estimators=10, n_jobs=1,\n",
      "          oob_score=False, random_state=0, verbose=0, warm_start=False)\n",
      "Best CV Score:\n",
      "0.9996896150556571\n"
     ]
    }
   ],
   "source": [
    "from sklearn.model_selection import GridSearchCV\n",
    "from sklearn import ensemble\n",
    "\n",
    "etr = ensemble.ExtraTreesRegressor(n_jobs=1, random_state=0)\n",
    "\n",
    "param_grid = {}#'n_estimators': [500], 'max_features': [10,15,20]}\n",
    "\n",
    "model = GridSearchCV(estimator=etr, param_grid=param_grid, n_jobs=1, cv=10) #, scoring=\"RMSE\")\n",
    "\n",
    "model.fit(X_train, y_train)\n",
    "\n",
    "#model.cv_results_\n",
    "print('Extra trees regression...')\n",
    "\n",
    "print('Best Params:')\n",
    "print(model.best_estimator_)\n",
    "\n",
    "print('Best CV Score:')\n",
    "print(model.best_score_)"
   ]
  },
  {
   "cell_type": "code",
   "execution_count": 31,
   "metadata": {},
   "outputs": [
    {
     "name": "stdout",
     "output_type": "stream",
     "text": [
      "MSE for ETR = 0.20968140855106912\n",
      "R2  for ETR = 0.998627792436296\n"
     ]
    }
   ],
   "source": [
    "# Predicting on test data\n",
    "y_pred_etr = model.predict(X_test)\n",
    "\n",
    "# MSE on test data\n",
    "mse_etr = mean_squared_error(y_test, y_pred_etr)\n",
    "print(\"MSE for ETR =\",mse_etr)\n",
    "\n",
    "# R Square measure on test data\n",
    "r2_etr = r2_score(y_test, y_pred_etr)\n",
    "print(\"R2  for ETR =\", r2_etr)"
   ]
  },
  {
   "cell_type": "markdown",
   "metadata": {},
   "source": [
    "### XGBoost Model"
   ]
  },
  {
   "cell_type": "code",
   "execution_count": 32,
   "metadata": {
    "collapsed": true
   },
   "outputs": [],
   "source": [
    "import xgboost as xgb"
   ]
  },
  {
   "cell_type": "code",
   "execution_count": 33,
   "metadata": {
    "collapsed": true
   },
   "outputs": [],
   "source": [
    "# Specify parameters for xgboost regressor\n",
    "xgb_params = {\n",
    "    'n_trees': 600,\n",
    "    'eta': 0.0025,\n",
    "    'max_depth': 5,\n",
    "    'subsample': 0.85,\n",
    "    'objective': 'reg:linear',\n",
    "    'eval_metric':'rmse',\n",
    "    'base_score': np.mean(y) # Start off base prediction as mean of target \n",
    "}"
   ]
  },
  {
   "cell_type": "code",
   "execution_count": 34,
   "metadata": {
    "collapsed": true
   },
   "outputs": [],
   "source": [
    "# Matrixes optimized for xgboost\n",
    "dtrain = xgb.DMatrix(X_train, y_train)\n",
    "dtest  = xgb.DMatrix(X_test)\n",
    "\n",
    "n_boosting_rounds = 1500"
   ]
  },
  {
   "cell_type": "code",
   "execution_count": 35,
   "metadata": {
    "collapsed": true
   },
   "outputs": [],
   "source": [
    "# Train the xgboost algorithm\n",
    "xgb_model = xgb.train(xgb_params, dtrain, num_boost_round=n_boosting_rounds)"
   ]
  },
  {
   "cell_type": "code",
   "execution_count": 36,
   "metadata": {},
   "outputs": [
    {
     "name": "stdout",
     "output_type": "stream",
     "text": [
      "MSE for xgb = 0.20968140855106912\n",
      "R2  for xgb = 0.9979257140655111\n"
     ]
    }
   ],
   "source": [
    "# Predicting on test data\n",
    "y_pred_xgb = xgb_model.predict(dtest)\n",
    "\n",
    "# MSE on test data\n",
    "mse_xgb = mean_squared_error(y_test, y_pred_xgb)\n",
    "print(\"MSE for xgb =\",mse_etr)\n",
    "\n",
    "# R Square measure on test data\n",
    "r2_xgb = r2_score(y_test, y_pred_xgb)\n",
    "print(\"R2  for xgb =\", r2_xgb)"
   ]
  },
  {
   "cell_type": "markdown",
   "metadata": {},
   "source": [
    "<space>"
   ]
  },
  {
   "cell_type": "code",
   "execution_count": 38,
   "metadata": {},
   "outputs": [
    {
     "data": {
      "text/html": [
       "<div>\n",
       "<style scoped>\n",
       "    .dataframe tbody tr th:only-of-type {\n",
       "        vertical-align: middle;\n",
       "    }\n",
       "\n",
       "    .dataframe tbody tr th {\n",
       "        vertical-align: top;\n",
       "    }\n",
       "\n",
       "    .dataframe thead th {\n",
       "        text-align: right;\n",
       "    }\n",
       "</style>\n",
       "<table border=\"1\" class=\"dataframe\">\n",
       "  <thead>\n",
       "    <tr style=\"text-align: right;\">\n",
       "      <th></th>\n",
       "      <th>Test_R Square</th>\n",
       "      <th>Test_MSE</th>\n",
       "    </tr>\n",
       "    <tr>\n",
       "      <th>Model</th>\n",
       "      <th></th>\n",
       "      <th></th>\n",
       "    </tr>\n",
       "  </thead>\n",
       "  <tbody>\n",
       "    <tr>\n",
       "      <th>XGBoost</th>\n",
       "      <td>0.997926</td>\n",
       "      <td>0.316963</td>\n",
       "    </tr>\n",
       "    <tr>\n",
       "      <th>ExtraTreesRegressor</th>\n",
       "      <td>0.998628</td>\n",
       "      <td>0.209681</td>\n",
       "    </tr>\n",
       "    <tr>\n",
       "      <th>ElasticNetCV</th>\n",
       "      <td>0.999960</td>\n",
       "      <td>0.006106</td>\n",
       "    </tr>\n",
       "  </tbody>\n",
       "</table>\n",
       "</div>"
      ],
      "text/plain": [
       "                     Test_R Square  Test_MSE\n",
       "Model                                       \n",
       "XGBoost                   0.997926  0.316963\n",
       "ExtraTreesRegressor       0.998628  0.209681\n",
       "ElasticNetCV              0.999960  0.006106"
      ]
     },
     "execution_count": 38,
     "metadata": {},
     "output_type": "execute_result"
    }
   ],
   "source": [
    "# Lets make score card for each model in tabular form using pandas\n",
    "list_of_lists = []\n",
    "list_of_lists.append(['XGBoost', r2_xgb, mse_xgb])\n",
    "list_of_lists.append(['ExtraTreesRegressor', r2_etr, mse_etr])\n",
    "list_of_lists.append(['ElasticNetCV', r2_enet, mse_enet])\n",
    "\n",
    "\n",
    "#Score = pd.DataFrame(list_of_lists, columns=['Score', 'XGBoost', 'ExtraTreesClassifier','ElasticNetCV'])\n",
    "Score = pd.DataFrame(list_of_lists, columns=['Model','Test_R Square', 'Test_MSE'])\n",
    "\n",
    "Score = Score.set_index('Model')\n",
    "Score"
   ]
  },
  {
   "cell_type": "markdown",
   "metadata": {},
   "source": [
    "Above table shows the performance of model trained on splitted train data set and tested on test data set\n",
    "\n",
    "ElasticNetCV model explains the time required better than other models"
   ]
  },
  {
   "cell_type": "markdown",
   "metadata": {},
   "source": [
    "The final model accomplishes the objective of the problem as stated by Mercedes-Benz.<br>\n",
    "The model is able to explain more than 99% of the variance in the testing data which means that it can account for more than half\n",
    "of the variation in vehicle testing times based on the vehicle configuration"
   ]
  },
  {
   "cell_type": "markdown",
   "metadata": {},
   "source": [
    "### References:\n",
    "- Python Machine Learning, Sebastaina Raschka\n",
    "- scikitlearn.org"
   ]
  }
 ],
 "metadata": {
  "kernelspec": {
   "display_name": "Python 3",
   "language": "python",
   "name": "python3"
  },
  "language_info": {
   "codemirror_mode": {
    "name": "ipython",
    "version": 3
   },
   "file_extension": ".py",
   "mimetype": "text/x-python",
   "name": "python",
   "nbconvert_exporter": "python",
   "pygments_lexer": "ipython3",
   "version": "3.6.3"
  }
 },
 "nbformat": 4,
 "nbformat_minor": 2
}
